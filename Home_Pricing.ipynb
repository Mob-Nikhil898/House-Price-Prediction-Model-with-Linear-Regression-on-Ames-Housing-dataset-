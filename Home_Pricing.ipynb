{
  "nbformat": 4,
  "nbformat_minor": 0,
  "metadata": {
    "colab": {
      "name": "Home_Pricing.ipynb",
      "provenance": [],
      "collapsed_sections": []
    },
    "kernelspec": {
      "name": "python3",
      "display_name": "Python 3"
    },
    "language_info": {
      "name": "python"
    }
  },
  "cells": [
    {
      "cell_type": "code",
      "metadata": {
        "colab": {
          "base_uri": "https://localhost:8080/"
        },
        "id": "9e5dgofS7LRy",
        "outputId": "3bc0fe47-6320-4ba1-b92f-f51a37f04b2a"
      },
      "source": [
        "from google.colab import drive\n",
        "drive.mount('/content/gdrive')\n",
        "train_path=('/content/gdrive/My Drive/Colab Notebooks/train.csv')\n",
        "test_path=('/content/gdrive/My Drive/Colab Notebooks/test.csv')"
      ],
      "execution_count": null,
      "outputs": [
        {
          "output_type": "stream",
          "text": [
            "Mounted at /content/gdrive\n"
          ],
          "name": "stdout"
        }
      ]
    },
    {
      "cell_type": "code",
      "metadata": {
        "id": "KYs9YlFB7thT"
      },
      "source": [
        "import pandas as pd\n",
        "train_data=pd.read_csv(train_path)\n",
        "test_data=pd.read_csv(test_path)"
      ],
      "execution_count": null,
      "outputs": []
    },
    {
      "cell_type": "code",
      "metadata": {
        "id": "I-P_S5Fr8aYo"
      },
      "source": [
        "from sklearn.linear_model import LinearRegression\n",
        "model=LinearRegression()"
      ],
      "execution_count": null,
      "outputs": []
    },
    {
      "cell_type": "code",
      "metadata": {
        "id": "O4_ickDA8eih"
      },
      "source": [
        "temp=train_data\n",
        "train_x=temp.drop(\"SalePrice\",axis=1)\n",
        "train_y=train_data[\"SalePrice\"]"
      ],
      "execution_count": null,
      "outputs": []
    },
    {
      "cell_type": "code",
      "metadata": {
        "colab": {
          "base_uri": "https://localhost:8080/"
        },
        "id": "ZzBdBkte8gq_",
        "outputId": "b1e25d84-6f45-4f53-b74c-dd86e20cae1b"
      },
      "source": [
        "columns=[]\n",
        "columns_name=[]\n",
        "alpha_data=[]\n",
        "count=0\n",
        "for i in train_x.columns:\n",
        "    i=str(i)\n",
        "    if not i.isnumeric() or i==\"0\":\n",
        "        columns.append(count)\n",
        "    count+=1\n",
        "for i in columns:\n",
        "    train_x.iloc[i]=train_x.iloc[i].replace(np.NaN,0)\n",
        "for i in train_x.columns:\n",
        "  columns_name.append(i)\n",
        "print(columns)"
      ],
      "execution_count": null,
      "outputs": [
        {
          "output_type": "stream",
          "text": [
            "[0, 1, 2, 3, 4, 5, 6, 7, 8, 9, 10, 11, 12, 13, 14, 15, 16, 17, 18, 19, 20, 21, 22, 23, 24, 25, 26, 27, 28, 29, 30, 31, 32, 33, 34, 35, 36, 37, 38, 39, 40, 41, 42, 43, 44, 45, 46, 47, 48, 49, 50, 51, 52, 53, 54, 55, 56, 57, 58, 59, 60, 61, 62, 63, 64, 65, 66, 67, 68, 69, 70, 71, 72, 73, 74, 75, 76, 77, 78, 79]\n"
          ],
          "name": "stdout"
        }
      ]
    },
    {
      "cell_type": "code",
      "metadata": {
        "colab": {
          "base_uri": "https://localhost:8080/"
        },
        "id": "KIHd6rfrTpvQ",
        "outputId": "31a2066f-5ee4-44ad-bb81-a9ad3aaa9f2c"
      },
      "source": [
        "#train_x.describe()\n",
        "temp=str(train_x.iloc[0][8])\n",
        "print(temp)"
      ],
      "execution_count": null,
      "outputs": [
        {
          "output_type": "stream",
          "text": [
            "Lvl\n"
          ],
          "name": "stdout"
        }
      ]
    },
    {
      "cell_type": "code",
      "metadata": {
        "colab": {
          "base_uri": "https://localhost:8080/"
        },
        "id": "bpE5S3yK8ijp",
        "outputId": "5e26330d-a173-4f96-d3cf-b02c0f2a3614"
      },
      "source": [
        "import numpy as np\n",
        "from sklearn.preprocessing import LabelEncoder\n",
        "for i in columns:\n",
        "  temp=str(train_x.iloc[0][i])\n",
        "  if not temp.isnumeric() :\n",
        "    alpha_data.append(i)\n",
        "  if temp==\"0\":\n",
        "    alpha_data.append(i)\n",
        "print(alpha_data)\n",
        "\n",
        "le = LabelEncoder()\n",
        "for x in alpha_data:\n",
        "  i = train_x.columns.get_loc(columns_name[x])\n",
        "  train_x.iloc[:,i] = train_x.apply(lambda i:le.fit_transform(i.astype(str)), axis=0, result_type='expand')\n",
        "\n"
      ],
      "execution_count": null,
      "outputs": [
        {
          "output_type": "stream",
          "text": [
            "[6, 9, 11, 15, 36, 40, 45, 48, 56, 57, 66, 68, 69, 70, 71, 72, 73, 74, 75, 6, 9, 11, 15, 36, 40, 45, 48, 56, 57, 66, 68, 69, 70, 71, 72, 73, 74, 75]\n"
          ],
          "name": "stdout"
        }
      ]
    },
    {
      "cell_type": "code",
      "metadata": {
        "colab": {
          "base_uri": "https://localhost:8080/"
        },
        "id": "LGNyrkHD8mwa",
        "outputId": "1e5e4b04-b681-41a4-ce52-4c0a27466b43"
      },
      "source": [
        "print(train_x)"
      ],
      "execution_count": null,
      "outputs": [
        {
          "output_type": "stream",
          "text": [
            "        Id  MSSubClass  MSZoning  ...  YrSold  SaleType  SaleCondition\n",
            "0        1          60         3  ...    2008         8              4\n",
            "1        2          20         3  ...    2007         8              4\n",
            "2        3          60         3  ...    2008         8              4\n",
            "3        4          70         3  ...    2006         8              0\n",
            "4        5          60         3  ...    2008         8              4\n",
            "...    ...         ...       ...  ...     ...       ...            ...\n",
            "1455  1456          60         3  ...    2007         8              4\n",
            "1456  1457          20         3  ...    2010         8              4\n",
            "1457  1458          70         3  ...    2010         8              4\n",
            "1458  1459          20         3  ...    2010         8              4\n",
            "1459  1460          20         3  ...    2008         8              4\n",
            "\n",
            "[1460 rows x 80 columns]\n"
          ],
          "name": "stdout"
        }
      ]
    },
    {
      "cell_type": "code",
      "metadata": {
        "id": "BBUB0lwVDwe4"
      },
      "source": [
        "from sklearn.linear_model import LinearRegression\n",
        "model=LinearRegression()\n",
        "for i in range(10):\n",
        "  model.fit(train_x,train_y)"
      ],
      "execution_count": null,
      "outputs": []
    },
    {
      "cell_type": "code",
      "metadata": {
        "id": "aB0Ka_rXENMw"
      },
      "source": [
        "result=[]\n",
        "for i in range(400):\n",
        "  result.append(model.predict(train_x.iloc[[i]]))"
      ],
      "execution_count": null,
      "outputs": []
    },
    {
      "cell_type": "code",
      "metadata": {
        "id": "ZnSLo_dkMJ_C"
      },
      "source": [
        "accuracy_list=[]\n",
        "for i in range(400):\n",
        "  x=(((abs(train_y[i]-result[i]))/train_y[i])*100)\n",
        "  x=100-x\n",
        "  accuracy_list.append(x)"
      ],
      "execution_count": null,
      "outputs": []
    },
    {
      "cell_type": "code",
      "metadata": {
        "colab": {
          "base_uri": "https://localhost:8080/"
        },
        "id": "ihHTK_dZS6Gj",
        "outputId": "70cea740-f4f9-4cc3-fbd8-6f1f4c135741"
      },
      "source": [
        "arr=np.array(accuracy_list)\n",
        "print(arr.mean())"
      ],
      "execution_count": null,
      "outputs": [
        {
          "output_type": "stream",
          "text": [
            "89.22201342524373\n"
          ],
          "name": "stdout"
        }
      ]
    },
    {
      "cell_type": "code",
      "metadata": {
        "id": "eEn6m7AaXdsr"
      },
      "source": [
        ""
      ],
      "execution_count": null,
      "outputs": []
    }
  ]
}